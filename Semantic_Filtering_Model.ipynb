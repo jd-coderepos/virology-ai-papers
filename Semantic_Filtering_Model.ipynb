{
  "nbformat": 4,
  "nbformat_minor": 0,
  "metadata": {
    "colab": {
      "provenance": []
    },
    "kernelspec": {
      "name": "python3",
      "display_name": "Python 3"
    },
    "language_info": {
      "name": "python"
    }
  },
  "cells": [
    {
      "cell_type": "code",
      "execution_count": 36,
      "metadata": {
        "colab": {
          "base_uri": "https://localhost:8080/"
        },
        "id": "vpOP3zuop1AX",
        "outputId": "6e2fa13c-5c15-4af6-9629-48ec712585e9"
      },
      "outputs": [
        {
          "output_type": "stream",
          "name": "stdout",
          "text": [
            "Drive already mounted at /content/drive; to attempt to forcibly remount, call drive.mount(\"/content/drive\", force_remount=True).\n"
          ]
        }
      ],
      "source": [
        "from google.colab import drive\n",
        "drive.mount('/content/drive')"
      ]
    },
    {
      "cell_type": "code",
      "source": [
        "import nltk\n",
        "from sentence_transformers import SentenceTransformer, util\n",
        "import pandas as pd\n",
        "import numpy as np\n",
        "from sklearn.metrics import confusion_matrix, ConfusionMatrixDisplay\n",
        "nltk.download('punkt_tab')"
      ],
      "metadata": {
        "id": "OM4rxaSLchwy",
        "colab": {
          "base_uri": "https://localhost:8080/"
        },
        "outputId": "3bf4453c-889f-4fb7-c285-02780ba27b7d"
      },
      "execution_count": 37,
      "outputs": [
        {
          "output_type": "stream",
          "name": "stderr",
          "text": [
            "[nltk_data] Downloading package punkt_tab to /root/nltk_data...\n",
            "[nltk_data]   Package punkt_tab is already up-to-date!\n"
          ]
        },
        {
          "output_type": "execute_result",
          "data": {
            "text/plain": [
              "True"
            ]
          },
          "metadata": {},
          "execution_count": 37
        }
      ]
    },
    {
      "cell_type": "code",
      "source": [
        "#Initialize the sentenceTransformer model to generate sentence embeddings\n",
        "model = SentenceTransformer(\"all-MiniLM-L6-v2\")"
      ],
      "metadata": {
        "id": "saMzWt_3p5zT"
      },
      "execution_count": 38,
      "outputs": []
    },
    {
      "cell_type": "code",
      "source": [
        "def preprocess_dataframe(csv_path):\n",
        "    df = pd.read_csv(csv_path)\n",
        "    df['Combined_Text'] = df['Title'].fillna('') + \" \" + df['Abstract'].fillna('')\n",
        "    return df"
      ],
      "metadata": {
        "id": "bN9WdhvMcXld"
      },
      "execution_count": 39,
      "outputs": []
    },
    {
      "cell_type": "code",
      "source": [
        "def calculate_relevance(df, target_sentences, column_name, similarity_threshold):\n",
        "    target_embeddings = model.encode(target_sentences, convert_to_tensor=True)\n",
        "\n",
        "    relevance_scores = []\n",
        "    count = 0\n",
        "\n",
        "    for idx, row in df.iterrows():\n",
        "        combined_text = row['Combined_Text']\n",
        "        max_similarity = 0\n",
        "        sentences = nltk.sent_tokenize(combined_text)\n",
        "\n",
        "        # Encode and calculate similarities\n",
        "        sentence_embeddings = model.encode(sentences, convert_to_tensor=True)\n",
        "        similarities = util.pytorch_cos_sim(sentence_embeddings, target_embeddings)\n",
        "        max_similarity = similarities.max().item()\n",
        "\n",
        "        if max_similarity >= similarity_threshold:\n",
        "            count += 1\n",
        "            relevance_scores.append(1)\n",
        "        else:\n",
        "            relevance_scores.append(0)\n",
        "    print(relevance_scores)\n",
        "\n",
        "    df[column_name] = relevance_scores\n",
        "\n",
        "    print(f\"{column_name}: {count} relevant rows identified (from {len(df)} filtered rows).\")\n",
        "    return df\n"
      ],
      "metadata": {
        "id": "EQZUyUY31u_j"
      },
      "execution_count": 40,
      "outputs": []
    },
    {
      "cell_type": "code",
      "source": [
        "def evaluate_predictions(df, ground_truth_path, prediction_column):\n",
        "    ground_truth = pd.read_csv(ground_truth_path, encoding=\"ISO-8859-1\")['Is_Relevant'].to_numpy()\n",
        "    print(len(ground_truth))\n",
        "    predicted = df[prediction_column].to_numpy()\n",
        "\n",
        "    correct_predictions = np.sum(ground_truth == predicted)\n",
        "    accuracy = correct_predictions / len(ground_truth)\n",
        "\n",
        "    print(f\"Accuracy: {accuracy * 100:.2f}%\")\n",
        "\n",
        "    cm = confusion_matrix(ground_truth, predicted)\n",
        "    print(\"Confusion Matrix:\")\n",
        "    print(cm)\n",
        "\n",
        "    disp = ConfusionMatrixDisplay(confusion_matrix=cm, display_labels=[\"Negative\", \"Positive\"])\n",
        "    disp.plot(cmap=\"Blues\")"
      ],
      "metadata": {
        "id": "1Gvpt0kicL14"
      },
      "execution_count": 41,
      "outputs": []
    },
    {
      "cell_type": "code",
      "source": [
        "#Define all the paramaters for first layer of embedding\n",
        "SIMILARITY_THRESHOLD_GENERAL = 0.39\n",
        "MEDICAL_CSV = '/content/drive/MyDrive/paper_review/Dataset_fulltext.csv'\n",
        "UPDATED_MEDICAL_CSV = '/content/drive/MyDrive/paper_review/epidemiology_virology_filtereddata.csv'\n",
        "GROUND_TRUTH_GENERAL = '/content/drive/MyDrive/paper_review/groundtruth_for_embedding1.csv'"
      ],
      "metadata": {
        "id": "8gCMkZpCqsJ3"
      },
      "execution_count": 53,
      "outputs": []
    },
    {
      "cell_type": "code",
      "source": [
        "target_sentences_general = [\n",
        "    \"Amebiasis\", \"Anthrax\", \"Arboviral Diseases\", \"Babesiosis\", \"Botulism\",\n",
        "    \"Brucellosis\", \"COVID-19\", \"Campylobacteriosis\", \"Cholera\",\n",
        "    \"Clostridium Perfringens\", \"Ebola\", \"Glanders\", \"Melioidosis\",\n",
        "    \"Plague\", \"Ricin Poisoning\", \"Trichinosis\", \"Cryptosporidiosis\",\n",
        "    \"Crypto\", \"Cyclosporiasis\", \"Dengue\", \"Diphtheria\", \"Ehrlichiosis\",\n",
        "    \"Anaplasmosis\", \"Escherichia coli, Shiga toxin-producing\", \"Flu\",\n",
        "    \"Giardiasis\", \"HIV\", \"AIDS\", \"Haemophilus influenza\",  \"Hansen's Disease\",\n",
        "    \"Leprosy\", \"Hantavirus\", \"Hepatitis\", \"Hepatitis A\", \"Hepatitis B\",\n",
        "    \"Hepatitis C\", \"Human Papillomavirus\", \"Influenza\", \"Legionellosis\",\n",
        "    \"Leptospirosis\", \"Listeriosis\", \"Lyme Disease\", \"Malaria\", \"Measles\",\n",
        "    \"Meningitis\", \"Meningococcal Disease\", \"Mumps\", \"Norovirus\", \"Pertussis\",\n",
        "    \"Whooping Cough\", \"Pneumococcal Disease\", \"Poliomyelitis\",\n",
        "    \"Psittacosis\", \"Q Fever\", \"Rabies\", \"Respiratory Syncytial Virus\",\n",
        "    \"Rubella\", \"SARS-CoV-2\", \"Salmonellosis\", \"Shigellosis\",\n",
        "    \"Shingles\", \"Smallpox\", \"Syphilis\", \"Tetanus\", \"Toxoplasmosis\",\n",
        "    \"Tuberculosis\", \"Tularemia\", \"Typhoid\", \"Varicella\", \"Chickenpox\",\n",
        "    \"Vibrio Infections\", \"West Nile Virus\", \"Yellow Fever\", \"Zika Virus\",\n",
        "    \"Infectious Diseases\", \"Trichonosis Infection\",  \"Salmonellosis gastroenteritis\",\n",
        "    \"Salmonella\", \"Shigellosis gastroenteritis\", \"Shigella\", \"Vibrio cholerae\",\n",
        "    \"Vibriosis\", \"Vibrio\", \"Yersenia\", \"Yersinia\", \"Ciguatera\", \"Harmful Algae Blooms\",\n",
        "    \"Paralytic Shellfish Poisoning\", \"Scombroid\", \"Staphylococcal Food Poisoning\",\n",
        "    \"Enterotoxin - B Poisoning\", \"Epsilon Toxin\", \"Ebola Hemorrhagic Fever\", \"Plague\",\n",
        "    \"Bubonic\", \"Septicemic\", \"Pneumonic\", \"Viral Hemorrhagic Fever\", \"Lassa\",\n",
        "    \"Marburg\", \"Avian Influenza\", \"Non-Polio\", \"Enterovirus D68\", \"EV-D68\",\n",
        "    \"Middle East Respiratory Syndrome Coronavirus\", \"MERS-CoV\",\n",
        "    \"H-flu\", \"Legionnaires Disease\", \"Bacterial\", \"Parrot Fever\",\n",
        "    \"Streptococcal Disease\", \"HIV\", \"AIDS\", \"Pediculosis\", \"Mycobacteriosis\",\n",
        "    \"Alpha-gal Syndrome\", \"Powassan\", \"Rickettsiosis\",\n",
        "    \"Rocky Mountain Spotted Fever\", \"Herpes Zoster\", \"zoster VZV\",\n",
        "    \"Measles\", \"Mpox\", \"German Measles\", \"Tetanus Infection\",\n",
        "    \"Lock Jaw\", \"Novel or emerging respiratory viruses\", \"Animal bites\",\n",
        "    \"Chikungunya\", \"Eastern Equine Encephalitis\", \"Encephalitis Arboviral\",\n",
        "    \"parainfectious\", \"Hantavirus Pulmonary Syndrome\", \"Monkeypox\"\n",
        "]\n"
      ],
      "metadata": {
        "id": "BM_eswhgdUyK"
      },
      "execution_count": 54,
      "outputs": []
    },
    {
      "cell_type": "code",
      "source": [
        "df = preprocess_dataframe(MEDICAL_CSV)\n",
        "\n",
        "# Calculate general relevance\n",
        "df = calculate_relevance(df, target_sentences_general,'Is_infectious', SIMILARITY_THRESHOLD_GENERAL)\n",
        "\n",
        "# Save general relevance results\n",
        "df.to_csv(UPDATED_MEDICAL_CSV, index=False)\n",
        "\n",
        "# Evaluate general relevance\n",
        "evaluate_predictions(df, GROUND_TRUTH_GENERAL, 'Is_infectious')\n"
      ],
      "metadata": {
        "colab": {
          "base_uri": "https://localhost:8080/",
          "height": 597
        },
        "id": "EWUqC3tAdzj6",
        "outputId": "ac862070-2c92-4a16-a133-0274c928257d"
      },
      "execution_count": 55,
      "outputs": [
        {
          "output_type": "stream",
          "name": "stdout",
          "text": [
            "[0, 0, 0, 0, 1, 0, 0, 0, 0, 0, 0, 0, 0, 0, 0, 1, 0, 0, 1, 0, 0, 0, 0, 1, 0, 0, 0, 1, 0, 1, 0, 1, 0, 0, 1, 1, 0, 0, 0, 0, 0, 0, 1, 0, 0, 0, 1, 1, 0, 0, 0, 0, 0, 1, 0, 0, 0, 0, 0, 1, 0, 0, 1, 0, 0, 0, 0, 0, 0, 0, 1, 1, 0, 0, 0, 0, 0, 0, 0, 0, 0, 0, 1, 1, 1, 0, 1, 0, 0, 0, 1, 0, 0, 0, 0, 0, 0, 0, 0, 0, 0, 0, 0, 0, 0, 0, 0, 0, 1, 0, 0, 0, 0, 0, 0, 0, 0, 0, 0, 0, 0, 0, 0, 0, 0, 0, 0, 0, 0, 1, 1, 0, 0, 1, 0, 1, 0, 0, 1, 0, 0, 0, 0, 1, 0, 0, 0, 0, 0, 1, 0, 0, 0, 1, 1, 0, 1, 0, 0, 0, 0, 0, 0, 0, 0, 0, 0, 0, 1, 0, 1, 0, 0, 0, 0, 0, 1, 0, 0, 0, 0, 0, 0, 1, 0, 0, 0, 0, 0, 0, 1, 0, 0, 0, 0, 1, 0, 1, 0, 0, 0, 0, 1, 0, 0, 0, 0, 0, 1, 1, 0, 0, 0, 0, 0, 0, 0, 0, 0, 0, 0, 0, 0, 1, 1, 0, 0, 0, 0, 0, 0, 0, 0, 0, 0, 0, 0, 0, 0, 0, 0, 0, 1, 0, 0, 0, 0, 0, 0, 1, 0, 0, 0, 0, 0, 1, 0, 1, 0, 1, 0, 0, 0, 1, 1, 0, 0, 1, 0, 0, 1, 1, 0, 0, 0, 0, 0, 0, 1, 0, 0, 0, 0, 0, 0, 0, 0, 0, 0, 0, 0, 0, 0, 0, 1, 1, 1, 1, 0, 0, 1, 0, 0, 1, 0, 1, 0, 0, 0, 0, 0, 1, 0, 0, 0, 1, 1, 0, 0, 0, 0, 0, 0, 0, 0, 0, 1, 1, 0, 1, 0, 1, 0, 1, 0, 0, 1, 0, 0, 0, 1, 0, 0, 0, 0, 0, 1, 1, 1, 0, 1, 0, 1, 0, 0, 1, 0, 0, 0, 0, 1, 0, 1, 0, 0, 0, 1, 0, 1, 1, 1, 0, 0, 1, 0, 1, 0, 1, 1, 1, 0, 0, 0, 0, 0, 0, 0, 1, 0, 0, 1, 0, 0, 0, 0, 0, 0, 0, 0, 0, 0, 0, 0, 1, 0, 0, 0, 1, 0, 0, 0, 0, 0, 1, 0, 1, 0, 0, 0, 0, 1, 0, 0, 0, 0, 1, 1, 0, 1, 0, 0, 1, 0, 1, 0, 0, 0, 0, 0, 0, 0, 0, 0, 0, 0, 0, 0, 1, 0, 0, 0, 0, 1, 0, 0, 0, 1, 0, 1, 0, 1, 1, 0, 1, 0, 0, 1, 0, 1, 0, 0, 0, 0, 1, 0, 0, 0, 1, 0, 0, 1, 0, 0, 1, 1, 1, 0, 1, 1, 0, 0, 0, 0, 1, 1, 0, 0, 0, 0, 1, 1, 0, 1, 0, 0, 0, 1, 1, 0, 0, 1, 0, 0, 1, 0, 0, 0, 1, 0, 1, 0, 0, 0, 0, 0, 1, 0, 1, 0, 1, 0, 0, 0, 0, 0, 1, 0, 0, 0, 1, 0, 0, 1, 0, 0, 1, 0, 1, 0, 0, 1, 0, 1, 0, 0, 1, 0, 0, 0, 0, 0, 1, 0, 0, 0, 1, 0, 0, 0, 1, 0, 1, 0, 0, 0, 0, 1, 1, 0, 1, 0, 0, 0, 0, 0, 0, 0, 0, 0, 0, 0, 0, 1, 0, 0, 0, 0, 1, 0, 0, 0, 0, 0, 0, 0, 0, 1, 1, 0, 0, 0, 0, 1, 1, 0, 0, 0, 0, 0, 0, 0, 0, 0, 0, 0, 0, 0, 1, 0, 0, 1, 0, 0, 0, 0, 1, 1, 0, 0, 1, 1, 0, 0, 0, 0, 1, 1, 1, 1, 0, 0, 1, 0, 0, 1, 1, 0, 1, 0, 1, 0, 0, 1, 0, 0, 1, 1, 0, 0, 1, 1, 0, 0, 0, 0, 1, 1, 1, 0, 0, 0, 0, 0, 1, 0, 0, 0, 0, 0, 1, 1, 1, 1, 0, 0, 0, 1, 0, 0, 0, 0, 0, 0, 0, 1, 0, 0, 0, 1, 0, 0, 0, 1, 0, 1, 0, 0, 1, 0, 0, 1, 1, 0, 0, 0, 0, 1, 0, 0, 0, 0, 0, 0, 1, 0, 0, 0, 0, 1, 0, 0, 0, 1, 0, 0, 0, 0, 1, 0, 0, 0, 0, 1, 1, 0, 0, 0, 1, 0, 1, 0, 0, 0, 0, 1, 0, 0, 0, 0, 1, 1, 0, 0, 0, 0, 0, 0, 0, 1, 1, 0, 1, 1, 0, 1, 0, 0, 0, 0, 0, 1, 0, 0, 1, 1, 0, 0, 1, 0, 0, 1, 0, 0, 0, 0, 1, 1, 0, 0, 0, 0, 0, 0, 0, 0, 0, 0, 0, 0, 1, 1, 0, 1, 0, 0, 1, 1, 1, 1, 0, 0, 0, 1, 0, 0, 1, 0, 0, 0, 1, 0, 1, 1, 0, 0, 1, 0, 0, 0, 0, 0, 1, 0, 0, 1, 0, 0, 0, 0, 0, 0, 0, 1, 1, 0, 0, 0, 1, 0, 0, 0, 0, 0, 0, 1, 0, 0, 1, 0, 0, 0, 0, 0, 1, 0, 0, 0, 0, 0, 0, 0, 1, 0, 0, 0, 0, 1, 0, 0, 0, 0, 0, 1, 1, 0, 1, 0, 1, 0, 0, 0, 1, 0, 0, 1, 0, 1, 1, 0, 0, 0, 0, 0, 1, 0, 0, 0, 0, 1, 0, 0, 1, 0, 0, 0, 1, 1, 1, 0, 0, 0, 1, 1, 0, 0, 0, 0, 0, 0, 1, 0, 0, 0, 1, 0, 1, 0, 1, 0, 1, 0, 1, 0, 0, 0, 0, 0, 1, 1, 0, 0, 0, 0, 1, 1, 0, 1, 1, 0, 1, 1, 0, 1, 0, 1, 0, 0, 0, 1, 0, 0, 0, 1, 1, 0, 1, 1, 0, 1, 1, 1, 1, 0, 0, 1, 1, 0, 0, 0, 0, 1, 0, 1, 1, 0, 0, 0, 0, 1, 0, 0, 1, 1, 0, 0, 0, 0, 0, 1, 1, 0, 0, 1, 0, 0, 0, 1, 0, 0, 0, 0, 0, 0, 0, 0, 0, 1, 0, 0, 0, 1, 0, 0, 1, 0, 0, 0, 0, 1, 0, 1, 1, 1, 0, 1, 0, 0, 0, 0, 0, 0, 0, 0, 0, 1, 0, 1, 0, 1, 1, 1, 0, 0, 1, 1, 0, 0, 0, 1, 1, 0, 0, 0, 0, 0, 1, 0, 1, 0, 0, 1, 0, 0, 1, 0, 1, 0, 0, 0]\n",
            "Is_infectious: 312 relevant rows identified (from 1109 filtered rows).\n",
            "1109\n",
            "Accuracy: 89.90%\n",
            "Confusion Matrix:\n",
            "[[777  92]\n",
            " [ 20 220]]\n"
          ]
        },
        {
          "output_type": "display_data",
          "data": {
            "text/plain": [
              "<Figure size 640x480 with 2 Axes>"
            ],
            "image/png": "[encoded data removed]"
          },
          "metadata": {}
        }
      ]
    },
    {
      "cell_type": "code",
      "source": [
        "#Define all the paramaters for second layer of embedding\n",
        "SIMILARITY_THRESHOLD_DL = 0.40\n",
        "UPDATED_MEDICAL_DL_CSV = '/content/drive/MyDrive/paper_review/OutputOfEmbedding1.csv'\n",
        "GROUND_TRUTH_DL = '/content/drive/MyDrive/paper_review/GroundTruthForembedding2.csv'"
      ],
      "metadata": {
        "id": "1a3XOwz-dF9E"
      },
      "execution_count": 56,
      "outputs": []
    },
    {
      "cell_type": "code",
      "source": [
        "deep_learning_embedding2 = [\n",
        "    \"Deep learning\", \"Neural networks\", \"Multilayer perceptron\", \"Graph Convolutional Networks\",\n",
        "    \"Convolutional neural network\", \"CNN\", \"RNN\", \"Recurrent neural network\", \"Long short-term memory\",\n",
        "    \"Autoencoder\", \"Deep belief network\", \"Generative adversarial network\", \"Deep Q-network\",\n",
        "    \"Backpropagation\", \"Gradient descent\", \"Fine-tuning\",\n",
        "    \"Hyperparameter tuning\", \"Model evaluation\", \"Fully connected feedforward networks\",\n",
        "    \"Data augmentation\", \"Feature extraction\", \"Stacked LSTMs\", \"Sequence modeling\",\n",
        "    \"Transformer model\", \"BERT\", \"GPT\", \"XLNet\",\n",
        "    \"ALBERT\", \"deep neural network\", \"artificial neural network\", \"feedforward neural network\",\n",
        "    \"neural net algorithm\", \"graph neural network\", \"graph embedding\", \"graph representation learning\",\n",
        "    \"node classification\", \"link prediction\", \"graph convolutional network\",\n",
        "    \"message passing neural network\", \"graph attention network\", \"graph-based learning\",\n",
        "    \"transformer\", \"self-attention\", \"encoder\", \"decoder\", \"encoder-decoder\",\n",
        "    \"transformer architecture\", \"attention-based neural network\", \"transformer network\",\n",
        "    \"sequence-to-sequence\", \"retrieval augmented generation\", \"RAG\", \"multimodal model\",\n",
        "    \"multimodal neural network\", \"multimodal transformer\", \"multi-modal language model\",\n",
        "    \"multi-modal large language model\", \"multimodal learning\", \"vision transformer\",\n",
        "    \"diffusion model\", \"generative diffusion model\", \"diffusion-based generative model\",\n",
        "    \"continuous diffusion model\", \"fusion model\", \"vision-language model\",\n",
        "    \"visual question answering\", \"visual grounding\", \"text-to-image generation\",\n",
        "    \"image-text alignment\", \"generative artificial intelligence\", \"generative AI\",\n",
        "    \"generative deep learning\", \"generative models\", \"large language model\", \"LLM\",\n",
        "    \"language model\", \"transformer-based model\", \"pretrained language model\",\n",
        "    \"foundation model\", \"state-of-the-art language model\", \"finetuned models\", \"finetuning\",\n",
        "    \"vision model\", \"image processing\", \"vision algorithm\",\n",
        "    \"computer graphics and vision\", \"object recognition\", \"object detection\",\n",
        "    \"image recognition\", \"image segmentation\", \"image captioning\",\n",
        "    \"image classification\", \"visual recognition\", \"image synthesis\",\n",
        "    \"scene understanding\",     \"natural language processing\", \"text mining\", \"NLP\", \"computational linguistics\",\n",
        "    \"language processing\", \"text analytics\", \"textual data analysis\", \"text data analysis\",\n",
        "    \"text analysis\", \"text classification\", \"text understanding\", \"text generation\",\n",
        "    \"speech and language technology\", \"language modeling\", \"language representation learning\",\n",
        "    \"word embedding\", \"vector embedding\", \"computational semantics\",\n",
        "    \"Computer vision involves image recognition and object detection.\",\n",
        "    \"Image processing and neural networks are integral to computer vision.\",\n",
        "]"
      ],
      "metadata": {
        "id": "nN_uiXok10bM"
      },
      "execution_count": 57,
      "outputs": []
    },
    {
      "cell_type": "code",
      "source": [
        "df = preprocess_dataframe(UPDATED_MEDICAL_DL_CSV)\n",
        "df = calculate_relevance(df, deep_learning_embedding2, 'Is_Relevant', 0.42 )\n",
        "# Save general relevance results\n",
        "df.to_csv('/content/drive/MyDrive/paper_review/test-computervisonsyndrome.csv', index=False)\n",
        "\n",
        "# Evaluate general relevance\n",
        "evaluate_predictions(df, GROUND_TRUTH_DL, 'Is_Relevant')\n"
      ],
      "metadata": {
        "colab": {
          "base_uri": "https://localhost:8080/",
          "height": 597
        },
        "id": "4WhjCLjMH9js",
        "outputId": "fc8ba87f-5960-45c9-f074-e7fcf22e5a63"
      },
      "execution_count": 59,
      "outputs": [
        {
          "output_type": "stream",
          "name": "stdout",
          "text": [
            "[0, 1, 1, 1, 0, 0, 0, 0, 0, 1, 0, 1, 1, 0, 1, 1, 1, 0, 0, 1, 1, 0, 0, 0, 0, 0, 1, 0, 1, 0, 0, 0, 0, 0, 0, 1, 0, 0, 1, 0, 0, 0, 0, 1, 0, 0, 1, 1, 0, 1, 0, 1, 0, 0, 1, 1, 1, 0, 1, 0, 1, 1, 1, 1, 1, 0, 1, 1, 1, 1, 0, 0, 0, 0, 1, 1, 0, 1, 1, 0, 0, 0, 0, 1, 0, 1, 1, 1, 1, 0, 1, 1, 1, 0, 1, 0, 0, 1, 1, 1, 1, 1, 0, 1, 1, 0, 1, 0, 0, 0, 0, 1, 1, 1, 1, 1, 1, 1, 0, 0, 1, 0, 0, 0, 0, 1, 1, 0, 0, 1, 0, 1, 1, 0, 1, 0, 0, 0, 1, 1, 0, 0, 0, 0, 0, 1, 0, 0, 1, 1, 0, 0, 1, 0, 0, 0, 0, 0, 0, 0, 0, 0, 0, 0, 0, 0, 0, 1, 1, 0, 0, 0, 0, 0, 0, 0, 0, 0, 0, 0, 0, 0, 0, 1, 0, 0, 0, 0, 0, 0, 0, 0, 1, 1, 1, 1, 0, 1, 1, 1, 1, 0, 1, 1, 0, 1, 1, 1, 1, 0, 0, 0, 1, 1, 1, 1, 0, 1, 1, 1, 1, 1, 0, 0, 1, 1, 1, 0, 1, 0, 0, 0, 1, 1, 0, 0, 1, 1, 1, 1, 1, 1, 1, 0, 1, 1, 1, 1, 1, 1, 0, 1, 0, 0, 0, 1, 0, 0, 1, 0, 0, 0, 0, 1, 0, 1, 1, 1, 1, 0, 0, 0, 0, 1, 0, 0, 0, 0, 0, 0, 1, 0, 1, 1, 1, 1, 0, 0, 1, 0, 1, 0, 1, 1, 0, 0, 0, 0, 0, 0, 0, 0, 0, 0, 0, 0, 1, 0, 1, 0, 0, 1]\n",
            "Is_Relevant: 140 relevant rows identified (from 312 filtered rows).\n",
            "312\n",
            "Accuracy: 60.26%\n",
            "Confusion Matrix:\n",
            "[[127  79]\n",
            " [ 45  61]]\n"
          ]
        },
        {
          "output_type": "display_data",
          "data": {
            "text/plain": [
              "<Figure size 640x480 with 2 Axes>"
            ],
            "image/png": "[encoded data removed]"
          },
          "metadata": {}
        }
      ]
    }
  ]
}