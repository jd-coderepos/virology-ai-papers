{
  "nbformat": 4,
  "nbformat_minor": 0,
  "metadata": {
    "colab": {
      "provenance": []
    },
    "kernelspec": {
      "name": "python3",
      "display_name": "Python 3"
    },
    "language_info": {
      "name": "python"
    }
  },
  "cells": [
    {
      "cell_type": "code",
      "execution_count": 24,
      "metadata": {
        "colab": {
          "base_uri": "https://localhost:8080/"
        },
        "id": "vpOP3zuop1AX",
        "outputId": "d30a0d69-8e60-4dd9-bc3c-84cea70b4792"
      },
      "outputs": [
        {
          "output_type": "stream",
          "name": "stdout",
          "text": [
            "Drive already mounted at /content/drive; to attempt to forcibly remount, call drive.mount(\"/content/drive\", force_remount=True).\n"
          ]
        }
      ],
      "source": [
        "from google.colab import drive\n",
        "drive.mount('/content/drive')"
      ]
    },
    {
      "cell_type": "code",
      "source": [
        "# Import necessary libraries\n",
        "import nltk\n",
        "from sentence_transformers import SentenceTransformer, util\n",
        "import pandas as pd\n",
        "import numpy as np\n",
        "from sklearn.metrics import confusion_matrix, ConfusionMatrixDisplay"
      ],
      "metadata": {
        "id": "OM4rxaSLchwy"
      },
      "execution_count": 25,
      "outputs": []
    },
    {
      "cell_type": "code",
      "source": [
        "# Download necessary NLTK package\n",
        "nltk.download('punkt_tab')"
      ],
      "metadata": {
        "colab": {
          "base_uri": "https://localhost:8080/"
        },
        "id": "eYbOEC32W0Io",
        "outputId": "7dce8d7a-2942-4d07-d2f8-c66b2fe50cae"
      },
      "execution_count": 26,
      "outputs": [
        {
          "output_type": "stream",
          "name": "stderr",
          "text": [
            "[nltk_data] Downloading package punkt_tab to /root/nltk_data...\n",
            "[nltk_data]   Package punkt_tab is already up-to-date!\n"
          ]
        },
        {
          "output_type": "execute_result",
          "data": {
            "text/plain": [
              "True"
            ]
          },
          "metadata": {},
          "execution_count": 26
        }
      ]
    },
    {
      "cell_type": "code",
      "source": [
        "#Initialize the sentenceTransformer model to generate sentence embeddings\n",
        "model = SentenceTransformer(\"all-MiniLM-L6-v2\")"
      ],
      "metadata": {
        "id": "saMzWt_3p5zT"
      },
      "execution_count": 28,
      "outputs": []
    },
    {
      "cell_type": "code",
      "source": [
        "# Function to read CSV data and combine 'Title' and 'Abstract' columns into one text field\n",
        "def preprocess_dataframe(csv_path):\n",
        "    df = pd.read_csv(csv_path, encoding='ISO-8859-1')\n",
        "    df['Combined_Text'] = df['Title'].fillna('') + \" \" + df['Abstract'].fillna('')\n",
        "    return df"
      ],
      "metadata": {
        "id": "bN9WdhvMcXld"
      },
      "execution_count": 29,
      "outputs": []
    },
    {
      "cell_type": "code",
      "source": [
        "# Function to calculate relevance of text based on similarity to predefined target sentences\n",
        "def calculate_relevance(df, target_sentences, column_name, similarity_threshold):\n",
        "    # Encode target sentences into embeddings\n",
        "    target_embeddings = model.encode(target_sentences, convert_to_tensor=True)\n",
        "\n",
        "    relevance_scores = []\n",
        "    count = 0\n",
        "\n",
        "    # Iterate through each row in the dataframe\n",
        "    for idx, row in df.iterrows():\n",
        "        combined_text = row['Combined_Text']\n",
        "        max_similarity = 0\n",
        "        sentences = nltk.sent_tokenize(combined_text)\n",
        "\n",
        "        # Encode and calculate similarities\n",
        "        sentence_embeddings = model.encode(sentences, convert_to_tensor=True)\n",
        "        # Compute cosine similarity between text and target sentences\n",
        "        similarities = util.pytorch_cos_sim(sentence_embeddings, target_embeddings)\n",
        "        max_similarity = similarities.max().item()\n",
        "\n",
        "        # Mark as relevant if similarity is above the threshold\n",
        "        if max_similarity >= similarity_threshold:\n",
        "            count += 1\n",
        "            relevance_scores.append(1)\n",
        "        else:\n",
        "            relevance_scores.append(0)\n",
        "\n",
        "    # Add the relevance results to the dataframe\n",
        "    df[column_name] = relevance_scores\n",
        "\n",
        "    print(f\"{column_name}: {count} relevant rows identified (from {len(df)} filtered rows).\")\n",
        "    return df"
      ],
      "metadata": {
        "id": "EQZUyUY31u_j"
      },
      "execution_count": 30,
      "outputs": []
    },
    {
      "cell_type": "code",
      "source": [
        "# Function to evaluate predictions using ground truth labels\n",
        "def evaluate_predictions(df, ground_truth_path, prediction_column):\n",
        "    # Load ground truth labels\n",
        "    ground_truth = pd.read_csv(ground_truth_path, encoding=\"ISO-8859-1\")['Is_infectious'].to_numpy()\n",
        "    print(len(ground_truth))\n",
        "\n",
        "    # Extract predicted labels from the dataframe\n",
        "    predicted = df[prediction_column].to_numpy()\n",
        "\n",
        "    # Compute accuracy\n",
        "    correct_predictions = np.sum(ground_truth == predicted)\n",
        "    accuracy = correct_predictions / len(ground_truth)\n",
        "\n",
        "    print(f\"Accuracy: {accuracy * 100:.2f}%\")\n",
        "\n",
        "    # Compute and display the confusion matrix\n",
        "    cm = confusion_matrix(ground_truth, predicted)\n",
        "    print(\"Confusion Matrix:\")\n",
        "    print(cm)\n",
        "\n",
        "    disp = ConfusionMatrixDisplay(confusion_matrix=cm, display_labels=[\"Negative\", \"Positive\"])\n",
        "    disp.plot(cmap=\"Blues\")"
      ],
      "metadata": {
        "id": "1Gvpt0kicL14"
      },
      "execution_count": 31,
      "outputs": []
    },
    {
      "cell_type": "code",
      "source": [
        "#Define all the paramaters for first layer of embedding\n",
        "SIMILARITY_THRESHOLD_GENERAL = 0.39\n",
        "MEDICAL_CSV = '/content/drive/MyDrive/bioxriv/aggregated_deduplicated_bioxriv.csv'\n",
        "UPDATED_MEDICAL_CSV = '/content/drive/MyDrive/bioxriv/OutputOfEmbedding1.csv'\n",
        "GROUND_TRUTH_GENERAL = '/content/drive/MyDrive/bioxriv/aggregated_deduplicated_bioxriv_groundtruth.csv'"
      ],
      "metadata": {
        "id": "8gCMkZpCqsJ3"
      },
      "execution_count": 32,
      "outputs": []
    },
    {
      "cell_type": "code",
      "source": [
        "# Define medical-related keywords for relevance matching\n",
        "target_sentences_general = [\n",
        "    \"Amebiasis\", \"Anthrax\", \"Arboviral Diseases\", \"Babesiosis\", \"Botulism\",\n",
        "    \"Brucellosis\", \"COVID-19\", \"Campylobacteriosis\", \"Cholera\",\n",
        "    \"Clostridium Perfringens\", \"Ebola\", \"Glanders\", \"Melioidosis\",\n",
        "    \"Plague\", \"Ricin Poisoning\", \"Trichinosis\", \"Cryptosporidiosis\",\n",
        "    \"Crypto\", \"Cyclosporiasis\", \"Dengue\", \"Diphtheria\", \"Ehrlichiosis\",\n",
        "    \"Anaplasmosis\", \"Escherichia coli, Shiga toxin-producing\", \"Flu\",\n",
        "    \"Giardiasis\", \"HIV\", \"AIDS\", \"Haemophilus influenza\",  \"Hansen's Disease\",\n",
        "    \"Leprosy\", \"Hantavirus\", \"Hepatitis\", \"Hepatitis A\", \"Hepatitis B\",\n",
        "    \"Hepatitis C\", \"Human Papillomavirus\", \"Influenza\", \"Legionellosis\",\n",
        "    \"Leptospirosis\", \"Listeriosis\", \"Lyme Disease\", \"Malaria\", \"Measles\",\n",
        "    \"Meningitis\", \"Meningococcal Disease\", \"Mumps\", \"Norovirus\", \"Pertussis\",\n",
        "    \"Whooping Cough\", \"Pneumococcal Disease\", \"Poliomyelitis\",\n",
        "    \"Psittacosis\", \"Q Fever\", \"Rabies\", \"Respiratory Syncytial Virus\",\n",
        "    \"Rubella\", \"SARS-CoV-2\", \"Salmonellosis\", \"Shigellosis\",\n",
        "    \"Shingles\", \"Smallpox\", \"Syphilis\", \"Tetanus\", \"Toxoplasmosis\",\n",
        "    \"Tuberculosis\", \"Tularemia\", \"Typhoid\", \"Varicella\", \"Chickenpox\",\n",
        "    \"Vibrio Infections\", \"West Nile Virus\", \"Yellow Fever\", \"Zika Virus\",\n",
        "    \"Infectious Diseases\", \"Trichonosis Infection\",  \"Salmonellosis gastroenteritis\",\n",
        "    \"Salmonella\", \"Shigellosis gastroenteritis\", \"Shigella\", \"Vibrio cholerae\",\n",
        "    \"Vibriosis\", \"Vibrio\", \"Yersenia\", \"Yersinia\", \"Ciguatera\", \"Harmful Algae Blooms\",\n",
        "    \"Paralytic Shellfish Poisoning\", \"Scombroid\", \"Staphylococcal Food Poisoning\",\n",
        "    \"Enterotoxin - B Poisoning\", \"Epsilon Toxin\", \"Ebola Hemorrhagic Fever\", \"Plague\",\n",
        "    \"Bubonic\", \"Septicemic\", \"Pneumonic\", \"Viral Hemorrhagic Fever\", \"Lassa\",\n",
        "    \"Marburg\", \"Avian Influenza\", \"Non-Polio\", \"Enterovirus D68\", \"EV-D68\",\n",
        "    \"Middle East Respiratory Syndrome Coronavirus\", \"MERS-CoV\",\n",
        "    \"H-flu\", \"Legionnaires Disease\", \"Bacterial\", \"Parrot Fever\",\n",
        "    \"Streptococcal Disease\", \"HIV\", \"AIDS\", \"Pediculosis\", \"Mycobacteriosis\",\n",
        "    \"Alpha-gal Syndrome\", \"Powassan\", \"Rickettsiosis\",\n",
        "    \"Rocky Mountain Spotted Fever\", \"Herpes Zoster\", \"zoster VZV\",\n",
        "    \"Measles\", \"Mpox\", \"German Measles\", \"Tetanus Infection\",\n",
        "    \"Lock Jaw\", \"Novel or emerging respiratory viruses\", \"Animal bites\",\n",
        "    \"Chikungunya\", \"Eastern Equine Encephalitis\", \"Encephalitis Arboviral\",\n",
        "    \"parainfectious\", \"Hantavirus Pulmonary Syndrome\", \"Monkeypox\"\n",
        "]\n"
      ],
      "metadata": {
        "id": "BM_eswhgdUyK"
      },
      "execution_count": 33,
      "outputs": []
    },
    {
      "cell_type": "code",
      "source": [
        "# Load and process the medical dataset\n",
        "df = preprocess_dataframe(MEDICAL_CSV)\n",
        "\n",
        "# Perform first-level filtering based on infectious diseases\n",
        "df = calculate_relevance(df, target_sentences_general, 'Is_infectious', SIMILARITY_THRESHOLD_GENERAL)\n",
        "\n",
        "# Save the filtered data to a new CSV file\n",
        "df.to_csv(UPDATED_MEDICAL_CSV, index=False)\n",
        "\n",
        "# Evaluate the performance of the first filtering step\n",
        "evaluate_predictions(df, GROUND_TRUTH_GENERAL, 'Is_infectious')\n"
      ],
      "metadata": {
        "colab": {
          "base_uri": "https://localhost:8080/",
          "height": 558
        },
        "id": "EWUqC3tAdzj6",
        "outputId": "a5004adf-10bf-4c1b-b98b-94a6dc922995"
      },
      "execution_count": 34,
      "outputs": [
        {
          "output_type": "stream",
          "name": "stdout",
          "text": [
            "Is_infectious: 445 relevant rows identified (from 3294 filtered rows).\n",
            "3294\n",
            "Accuracy: 89.22%\n",
            "Confusion Matrix:\n",
            "[[2843  349]\n",
            " [   6   96]]\n"
          ]
        },
        {
          "output_type": "display_data",
          "data": {
            "text/plain": [
              "<Figure size 640x480 with 2 Axes>"
            ],
            "image/png": "[encoded data removed]"
          },
          "metadata": {}
        }
      ]
    },
    {
      "cell_type": "code",
      "source": [
        "#Define all the paramaters for second layer of embedding\n",
        "SIMILARITY_THRESHOLD_DL = 0.40\n",
        "UPDATED_MEDICAL_DL_CSV = '/content/drive/MyDrive/bioxriv/Input_to_embedding2.csv'\n",
        "DL_OUTPUT_CSV = '/content/drive/MyDrive/bioxriv/OutputOfEmbedding2.csv'\n",
        "GROUND_TRUTH_DL = '/content/drive/MyDrive/bioxriv/Groundtruth_for_embedding2.csv'"
      ],
      "metadata": {
        "id": "1a3XOwz-dF9E"
      },
      "execution_count": 44,
      "outputs": []
    },
    {
      "cell_type": "code",
      "source": [
        "deep_learning_embedding2 = [\n",
        "    \"Deep learning\", \"Neural networks\", \"Multilayer perceptron\", \"Graph Convolutional Networks\",\n",
        "    \"Convolutional neural network\", \"CNN\", \"RNN\", \"Recurrent neural network\", \"Long short-term memory\",\n",
        "    \"Autoencoder\", \"Deep belief network\", \"Generative adversarial network\", \"Deep Q-network\",\n",
        "    \"Backpropagation\", \"Gradient descent\", \"Fine-tuning\",\n",
        "    \"Hyperparameter tuning\", \"Model evaluation\", \"Fully connected feedforward networks\",\n",
        "    \"Data augmentation\", \"Feature extraction\", \"Stacked LSTMs\", \"Sequence modeling\",\n",
        "    \"Transformer model\", \"BERT\", \"GPT\", \"XLNet\",\n",
        "    \"ALBERT\", \"deep neural network\", \"artificial neural network\", \"feedforward neural network\",\n",
        "    \"neural net algorithm\", \"graph neural network\", \"graph embedding\", \"graph representation learning\",\n",
        "    \"node classification\", \"link prediction\", \"graph convolutional network\",\n",
        "    \"message passing neural network\", \"graph attention network\", \"graph-based learning\",\n",
        "    \"transformer\", \"self-attention\", \"encoder\", \"decoder\", \"encoder-decoder\",\n",
        "    \"transformer architecture\", \"attention-based neural network\", \"transformer network\",\n",
        "    \"sequence-to-sequence\", \"retrieval augmented generation\", \"RAG\", \"multimodal model\",\n",
        "    \"multimodal neural network\", \"multimodal transformer\", \"multi-modal language model\",\n",
        "    \"multi-modal large language model\", \"multimodal learning\", \"vision transformer\",\n",
        "    \"diffusion model\", \"generative diffusion model\", \"diffusion-based generative model\",\n",
        "    \"continuous diffusion model\", \"fusion model\", \"vision-language model\",\n",
        "    \"visual question answering\", \"visual grounding\", \"text-to-image generation\",\n",
        "    \"image-text alignment\", \"generative artificial intelligence\", \"generative AI\",\n",
        "    \"generative deep learning\", \"generative models\", \"large language model\", \"LLM\",\n",
        "    \"language model\", \"transformer-based model\", \"pretrained language model\",\n",
        "    \"foundation model\", \"state-of-the-art language model\", \"finetuned models\", \"finetuning\",\n",
        "    \"vision model\", \"image processing\", \"vision algorithm\",\n",
        "    \"computer graphics and vision\", \"object recognition\", \"object detection\",\n",
        "    \"image recognition\", \"image segmentation\", \"image captioning\",\n",
        "    \"image classification\", \"visual recognition\", \"image synthesis\",\n",
        "    \"scene understanding\",     \"natural language processing\", \"text mining\", \"NLP\", \"computational linguistics\",\n",
        "    \"language processing\", \"text analytics\", \"textual data analysis\", \"text data analysis\",\n",
        "    \"text analysis\", \"text classification\", \"text understanding\", \"text generation\",\n",
        "    \"speech and language technology\", \"language modeling\", \"language representation learning\",\n",
        "    \"word embedding\", \"vector embedding\", \"computational semantics\",\n",
        "    \"Computer vision involves image recognition and object detection.\",\n",
        "    \"Image processing and neural networks are integral to computer vision.\",\n",
        "]"
      ],
      "metadata": {
        "id": "nN_uiXok10bM"
      },
      "execution_count": 45,
      "outputs": []
    },
    {
      "cell_type": "code",
      "source": [
        "# Load and process the dataset after the first embedding step\n",
        "df = preprocess_dataframe(UPDATED_MEDICAL_DL_CSV)\n",
        "\n",
        "# Perform second-level filtering based on deep learning topics\n",
        "df = calculate_relevance(df, deep_learning_embedding2, 'Is_infectious', 0.42)\n",
        "\n",
        "# Save the deep learning relevance results\n",
        "df.to_csv('/content/drive/MyDrive/medrxiv/OutputOfEmbedding2.csv', index=False)\n",
        "\n",
        "# Evaluate the performance of the second filtering step\n",
        "evaluate_predictions(df, GROUND_TRUTH_DL, 'Is_infectious')"
      ],
      "metadata": {
        "colab": {
          "base_uri": "https://localhost:8080/",
          "height": 558
        },
        "id": "4WhjCLjMH9js",
        "outputId": "72236175-5457-4e58-b545-22935f1dbc2a"
      },
      "execution_count": 46,
      "outputs": [
        {
          "output_type": "stream",
          "name": "stdout",
          "text": [
            "Is_infectious: 260 relevant rows identified (from 445 filtered rows).\n",
            "445\n",
            "Accuracy: 43.82%\n",
            "Confusion Matrix:\n",
            "[[142 207]\n",
            " [ 43  53]]\n"
          ]
        },
        {
          "output_type": "display_data",
          "data": {
            "text/plain": [
              "<Figure size 640x480 with 2 Axes>"
            ],
            "image/png": "[encoded data removed]"
          },
          "metadata": {}
        }
      ]
    }
  ]
}